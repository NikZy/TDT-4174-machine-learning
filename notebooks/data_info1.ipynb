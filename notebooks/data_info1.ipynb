{
 "cells": [
  {
   "cell_type": "code",
   "execution_count": 1,
   "metadata": {},
   "outputs": [],
   "source": [
    "\n",
    "import numpy as np\n",
    "import pandas as pd\n",
    "import seaborn as sns\n",
    "import matplotlib.pyplot as plt\n",
    "%matplotlib inline\n",
    "from sklearn.preprocessing import LabelEncoder\n",
    "from sklearn.model_selection import train_test_split\n",
    "from sklearn.preprocessing import MinMaxScaler\n",
    "from sklearn import metrics\n",
    "df=pd.read_csv('kc_house_data.csv')\n",
    "df.drop(['id'],axis=1, inplace=True)\n",
    "df.drop(['date'],axis=1, inplace=True)\n",
    "\n"
   ]
  },
  {
   "cell_type": "code",
   "execution_count": 2,
   "metadata": {
    "scrolled": true
   },
   "outputs": [
    {
     "output_type": "execute_result",
     "data": {
      "text/plain": "(21613, 19)"
     },
     "metadata": {},
     "execution_count": 2
    }
   ],
   "source": [
    "df.shape"
   ]
  },
  {
   "cell_type": "code",
   "execution_count": 3,
   "metadata": {
    "tags": []
   },
   "outputs": [
    {
     "output_type": "stream",
     "name": "stdout",
     "text": "&lt;class &#39;pandas.core.frame.DataFrame&#39;&gt;\nRangeIndex: 21613 entries, 0 to 21612\nData columns (total 19 columns):\n #   Column         Non-Null Count  Dtype  \n---  ------         --------------  -----  \n 0   price          21613 non-null  float64\n 1   bedrooms       21613 non-null  int64  \n 2   bathrooms      21613 non-null  float64\n 3   sqft_living    21613 non-null  int64  \n 4   sqft_lot       21613 non-null  int64  \n 5   floors         21613 non-null  float64\n 6   waterfront     21613 non-null  int64  \n 7   view           21613 non-null  int64  \n 8   condition      21613 non-null  int64  \n 9   grade          21613 non-null  int64  \n 10  sqft_above     21613 non-null  int64  \n 11  sqft_basement  21613 non-null  int64  \n 12  yr_built       21613 non-null  int64  \n 13  yr_renovated   21613 non-null  int64  \n 14  zipcode        21613 non-null  int64  \n 15  lat            21613 non-null  float64\n 16  long           21613 non-null  float64\n 17  sqft_living15  21613 non-null  int64  \n 18  sqft_lot15     21613 non-null  int64  \ndtypes: float64(5), int64(14)\nmemory usage: 3.1 MB\n"
    }
   ],
   "source": [
    "df.info()"
   ]
  },
  {
   "cell_type": "code",
   "execution_count": 4,
   "metadata": {},
   "outputs": [
    {
     "output_type": "execute_result",
     "data": {
      "text/plain": "                 count           mean            std         min         25%  \\\nprice          21613.0  540088.141767  367127.196483  75000.0000  321950.000   \nbedrooms       21613.0       3.370842       0.930062      0.0000       3.000   \nbathrooms      21613.0       2.114757       0.770163      0.0000       1.750   \nsqft_living    21613.0    2079.899736     918.440897    290.0000    1427.000   \nsqft_lot       21613.0   15106.967566   41420.511515    520.0000    5040.000   \nfloors         21613.0       1.494309       0.539989      1.0000       1.000   \nwaterfront     21613.0       0.007542       0.086517      0.0000       0.000   \nview           21613.0       0.234303       0.766318      0.0000       0.000   \ncondition      21613.0       3.409430       0.650743      1.0000       3.000   \ngrade          21613.0       7.656873       1.175459      1.0000       7.000   \nsqft_above     21613.0    1788.390691     828.090978    290.0000    1190.000   \nsqft_basement  21613.0     291.509045     442.575043      0.0000       0.000   \nyr_built       21613.0    1971.005136      29.373411   1900.0000    1951.000   \nyr_renovated   21613.0      84.402258     401.679240      0.0000       0.000   \nzipcode        21613.0   98077.939805      53.505026  98001.0000   98033.000   \nlat            21613.0      47.560053       0.138564     47.1559      47.471   \nlong           21613.0    -122.213896       0.140828   -122.5190    -122.328   \nsqft_living15  21613.0    1986.552492     685.391304    399.0000    1490.000   \nsqft_lot15     21613.0   12768.455652   27304.179631    651.0000    5100.000   \n\n                       50%         75%           max  \nprice          450000.0000  645000.000  7.700000e+06  \nbedrooms            3.0000       4.000  3.300000e+01  \nbathrooms           2.2500       2.500  8.000000e+00  \nsqft_living      1910.0000    2550.000  1.354000e+04  \nsqft_lot         7618.0000   10688.000  1.651359e+06  \nfloors              1.5000       2.000  3.500000e+00  \nwaterfront          0.0000       0.000  1.000000e+00  \nview                0.0000       0.000  4.000000e+00  \ncondition           3.0000       4.000  5.000000e+00  \ngrade               7.0000       8.000  1.300000e+01  \nsqft_above       1560.0000    2210.000  9.410000e+03  \nsqft_basement       0.0000     560.000  4.820000e+03  \nyr_built         1975.0000    1997.000  2.015000e+03  \nyr_renovated        0.0000       0.000  2.015000e+03  \nzipcode         98065.0000   98118.000  9.819900e+04  \nlat                47.5718      47.678  4.777760e+01  \nlong             -122.2300    -122.125 -1.213150e+02  \nsqft_living15    1840.0000    2360.000  6.210000e+03  \nsqft_lot15       7620.0000   10083.000  8.712000e+05  ",
      "text/html": "<div>\n<style scoped>\n    .dataframe tbody tr th:only-of-type {\n        vertical-align: middle;\n    }\n\n    .dataframe tbody tr th {\n        vertical-align: top;\n    }\n\n    .dataframe thead th {\n        text-align: right;\n    }\n</style>\n<table border=\"1\" class=\"dataframe\">\n  <thead>\n    <tr style=\"text-align: right;\">\n      <th></th>\n      <th>count</th>\n      <th>mean</th>\n      <th>std</th>\n      <th>min</th>\n      <th>25%</th>\n      <th>50%</th>\n      <th>75%</th>\n      <th>max</th>\n    </tr>\n  </thead>\n  <tbody>\n    <tr>\n      <th>price</th>\n      <td>21613.0</td>\n      <td>540088.141767</td>\n      <td>367127.196483</td>\n      <td>75000.0000</td>\n      <td>321950.000</td>\n      <td>450000.0000</td>\n      <td>645000.000</td>\n      <td>7.700000e+06</td>\n    </tr>\n    <tr>\n      <th>bedrooms</th>\n      <td>21613.0</td>\n      <td>3.370842</td>\n      <td>0.930062</td>\n      <td>0.0000</td>\n      <td>3.000</td>\n      <td>3.0000</td>\n      <td>4.000</td>\n      <td>3.300000e+01</td>\n    </tr>\n    <tr>\n      <th>bathrooms</th>\n      <td>21613.0</td>\n      <td>2.114757</td>\n      <td>0.770163</td>\n      <td>0.0000</td>\n      <td>1.750</td>\n      <td>2.2500</td>\n      <td>2.500</td>\n      <td>8.000000e+00</td>\n    </tr>\n    <tr>\n      <th>sqft_living</th>\n      <td>21613.0</td>\n      <td>2079.899736</td>\n      <td>918.440897</td>\n      <td>290.0000</td>\n      <td>1427.000</td>\n      <td>1910.0000</td>\n      <td>2550.000</td>\n      <td>1.354000e+04</td>\n    </tr>\n    <tr>\n      <th>sqft_lot</th>\n      <td>21613.0</td>\n      <td>15106.967566</td>\n      <td>41420.511515</td>\n      <td>520.0000</td>\n      <td>5040.000</td>\n      <td>7618.0000</td>\n      <td>10688.000</td>\n      <td>1.651359e+06</td>\n    </tr>\n    <tr>\n      <th>floors</th>\n      <td>21613.0</td>\n      <td>1.494309</td>\n      <td>0.539989</td>\n      <td>1.0000</td>\n      <td>1.000</td>\n      <td>1.5000</td>\n      <td>2.000</td>\n      <td>3.500000e+00</td>\n    </tr>\n    <tr>\n      <th>waterfront</th>\n      <td>21613.0</td>\n      <td>0.007542</td>\n      <td>0.086517</td>\n      <td>0.0000</td>\n      <td>0.000</td>\n      <td>0.0000</td>\n      <td>0.000</td>\n      <td>1.000000e+00</td>\n    </tr>\n    <tr>\n      <th>view</th>\n      <td>21613.0</td>\n      <td>0.234303</td>\n      <td>0.766318</td>\n      <td>0.0000</td>\n      <td>0.000</td>\n      <td>0.0000</td>\n      <td>0.000</td>\n      <td>4.000000e+00</td>\n    </tr>\n    <tr>\n      <th>condition</th>\n      <td>21613.0</td>\n      <td>3.409430</td>\n      <td>0.650743</td>\n      <td>1.0000</td>\n      <td>3.000</td>\n      <td>3.0000</td>\n      <td>4.000</td>\n      <td>5.000000e+00</td>\n    </tr>\n    <tr>\n      <th>grade</th>\n      <td>21613.0</td>\n      <td>7.656873</td>\n      <td>1.175459</td>\n      <td>1.0000</td>\n      <td>7.000</td>\n      <td>7.0000</td>\n      <td>8.000</td>\n      <td>1.300000e+01</td>\n    </tr>\n    <tr>\n      <th>sqft_above</th>\n      <td>21613.0</td>\n      <td>1788.390691</td>\n      <td>828.090978</td>\n      <td>290.0000</td>\n      <td>1190.000</td>\n      <td>1560.0000</td>\n      <td>2210.000</td>\n      <td>9.410000e+03</td>\n    </tr>\n    <tr>\n      <th>sqft_basement</th>\n      <td>21613.0</td>\n      <td>291.509045</td>\n      <td>442.575043</td>\n      <td>0.0000</td>\n      <td>0.000</td>\n      <td>0.0000</td>\n      <td>560.000</td>\n      <td>4.820000e+03</td>\n    </tr>\n    <tr>\n      <th>yr_built</th>\n      <td>21613.0</td>\n      <td>1971.005136</td>\n      <td>29.373411</td>\n      <td>1900.0000</td>\n      <td>1951.000</td>\n      <td>1975.0000</td>\n      <td>1997.000</td>\n      <td>2.015000e+03</td>\n    </tr>\n    <tr>\n      <th>yr_renovated</th>\n      <td>21613.0</td>\n      <td>84.402258</td>\n      <td>401.679240</td>\n      <td>0.0000</td>\n      <td>0.000</td>\n      <td>0.0000</td>\n      <td>0.000</td>\n      <td>2.015000e+03</td>\n    </tr>\n    <tr>\n      <th>zipcode</th>\n      <td>21613.0</td>\n      <td>98077.939805</td>\n      <td>53.505026</td>\n      <td>98001.0000</td>\n      <td>98033.000</td>\n      <td>98065.0000</td>\n      <td>98118.000</td>\n      <td>9.819900e+04</td>\n    </tr>\n    <tr>\n      <th>lat</th>\n      <td>21613.0</td>\n      <td>47.560053</td>\n      <td>0.138564</td>\n      <td>47.1559</td>\n      <td>47.471</td>\n      <td>47.5718</td>\n      <td>47.678</td>\n      <td>4.777760e+01</td>\n    </tr>\n    <tr>\n      <th>long</th>\n      <td>21613.0</td>\n      <td>-122.213896</td>\n      <td>0.140828</td>\n      <td>-122.5190</td>\n      <td>-122.328</td>\n      <td>-122.2300</td>\n      <td>-122.125</td>\n      <td>-1.213150e+02</td>\n    </tr>\n    <tr>\n      <th>sqft_living15</th>\n      <td>21613.0</td>\n      <td>1986.552492</td>\n      <td>685.391304</td>\n      <td>399.0000</td>\n      <td>1490.000</td>\n      <td>1840.0000</td>\n      <td>2360.000</td>\n      <td>6.210000e+03</td>\n    </tr>\n    <tr>\n      <th>sqft_lot15</th>\n      <td>21613.0</td>\n      <td>12768.455652</td>\n      <td>27304.179631</td>\n      <td>651.0000</td>\n      <td>5100.000</td>\n      <td>7620.0000</td>\n      <td>10083.000</td>\n      <td>8.712000e+05</td>\n    </tr>\n  </tbody>\n</table>\n</div>"
     },
     "metadata": {},
     "execution_count": 4
    }
   ],
   "source": [
    "df.describe().transpose()\n"
   ]
  },
  {
   "cell_type": "code",
   "execution_count": 5,
   "metadata": {},
   "outputs": [],
   "source": [
    "Y = df['price']\n",
    "df.drop(['price'],axis=1, inplace=True)\n"
   ]
  },
  {
   "cell_type": "code",
   "execution_count": 6,
   "metadata": {
    "tags": []
   },
   "outputs": [],
   "source": [
    "from sklearn.model_selection import train_test_split\n",
    "df.values.shape\n",
    "#df.columns.shape\n",
    "#X = df.iloc[0,1:].values\n",
    "#y = df.iloc[:,0].values\n",
    "X = df\n",
    "#y = df['price']\n",
    "# Split data into training data and test data\n",
    "X_training, X_test, Y_training, Y_test = train_test_split(X,Y, test_size=0.3, random_state=0)"
   ]
  },
  {
   "cell_type": "code",
   "execution_count": 14,
   "metadata": {
    "tags": []
   },
   "outputs": [
    {
     "output_type": "stream",
     "name": "stdout",
     "text": "[ 288000. 1980000.  500000. ...  289000.  234000.  232500.]\n0.737037680063133\n"
    }
   ],
   "source": [
    "from sklearn import tree\n",
    "from sklearn.metrics import explained_variance_score\n",
    "\n",
    "dt = tree.DecisionTreeRegressor()\n",
    "dt.fit(X_training, Y_training)\n",
    "#tree.plot_tree(dt)\n",
    "#dt.score(X_test, Y_test)\n",
    "\n",
    "score = dt.score(X_test, Y_test)\n",
    "predict = dt.predict(X_test)\n",
    "print(predict)\n",
    "explain = explained_variance_score(predict, Y_test)\n",
    "print(explain)\n",
    "#pred_tr = tr_regressor.predict(X_test)\n",
    "#decision_score=tr_regressor.score(X_test,y_test)\n",
    "#expl_tr = explained_variance_score(pred_tr,y_test)\n",
    "#df.columns\n",
    "#df.values\n"
   ]
  },
  {
   "cell_type": "code",
   "execution_count": null,
   "metadata": {},
   "outputs": [],
   "source": []
  },
  {
   "cell_type": "code",
   "execution_count": null,
   "metadata": {},
   "outputs": [],
   "source": []
  }
 ],
 "metadata": {
  "kernelspec": {
   "display_name": "Python 3",
   "language": "python",
   "name": "python3"
  },
  "language_info": {
   "codemirror_mode": {
    "name": "ipython",
    "version": 3
   },
   "file_extension": ".py",
   "mimetype": "text/x-python",
   "name": "python",
   "nbconvert_exporter": "python",
   "pygments_lexer": "ipython3",
   "version": "3.8.6-final"
  }
 },
 "nbformat": 4,
 "nbformat_minor": 4
}