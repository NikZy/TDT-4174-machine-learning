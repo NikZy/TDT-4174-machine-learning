{
 "cells": [
  {
   "cell_type": "code",
   "execution_count": null,
   "metadata": {},
   "outputs": [],
   "source": [
    "from joblib import dump, load\n",
    "import pandas as pd\n",
    "import numpy as np\n",
    "from sklearn.model_selection import train_test_split\n",
    "from sklearn.preprocessing import StandardScaler\n",
    "from sklearn.model_selection import GridSearchCV\n",
    "from sklearn import tree\n",
    "from sklearn.metrics import explained_variance_score\n",
    "import matplotlib.pyplot as plt\n",
    "\n",
    "\n",
    "thetaLog = []\n",
    "\n",
    "Y_training = pd.read_csv('../data/Y_training')\n",
    "X_training = pd.read_csv('../data/X_training')\n",
    "min = Y_training.min(axis=0)['price']\n",
    "max = Y_training.max(axis=0)['price']\n",
    "\n",
    "f = open(\"../models/linear.txt\", 'r')\n",
    "\n",
    "for i in f.readline().split(','):\n",
    "    thetaLog.append((float(i) * (max-min)) + min)\n",
    "f.close()\n",
    "\n",
    "plt.bar(x=list(X_training.keys()[1:len(X_training.keys())]), height=list(thetaLog)[0:-1], color='teal')\n",
    "plt.xticks(rotation=90)\n",
    "plt.xlabel('Coefficients', fontsize=12)\n",
    "plt.ylabel('Value', fontsize=12)\n",
    "plt.title('Coefficients value in linear regression', fontsize=15)\n",
    "plt.show()\n",
    "\n",
    "\n",
    "theta = []\n",
    "f = open(\"../models/logistic.txt\", 'r')\n",
    "\n",
    "for i in f.readline().split(','):\n",
    "    theta.append((float(i) * (max-min)) + min)\n",
    "f.close()\n",
    "\n",
    "plt.bar(x=list(X_training.keys()[1:len(X_training.keys())]), height=list(theta)[0:-1], color='teal')\n",
    "plt.xticks(rotation=90)\n",
    "plt.xlabel('Coefficients', fontsize=12)\n",
    "plt.ylabel('Value', fontsize=12)\n",
    "plt.title('Coefficients value in logistic regression', fontsize=15)\n",
    "plt.show()\n",
    "\n",
    "\n",
    "\n",
    "dt_best_model = load('../models/decision-tree-optimized.joblib')\n",
    "\n",
    "\n",
    "\n",
    "plt.bar(x=list(X_training.keys()[1:len(X_training.keys())]), height=list(dt_best_model.feature_importances_), color='teal')\n",
    "plt.xticks(rotation=90)\n",
    "plt.xlabel('Coefficients', fontsize=12)\n",
    "plt.ylabel('Value', fontsize=12)\n",
    "plt.title('Coefficients value in logistic regression', fontsize=15)\n",
    "plt.show()\n"
   ]
  },
  {
   "cell_type": "code",
   "execution_count": null,
   "metadata": {},
   "outputs": [],
   "source": []
  },
  {
   "cell_type": "code",
   "execution_count": null,
   "metadata": {},
   "outputs": [],
   "source": []
  }
 ],
 "metadata": {
  "kernelspec": {
   "display_name": "Python 3",
   "language": "python",
   "name": "python3"
  },
  "language_info": {
   "codemirror_mode": {
    "name": "ipython",
    "version": 3
   },
   "file_extension": ".py",
   "mimetype": "text/x-python",
   "name": "python",
   "nbconvert_exporter": "python",
   "pygments_lexer": "ipython3",
   "version": "3.8.3"
  }
 },
 "nbformat": 4,
 "nbformat_minor": 4
}
